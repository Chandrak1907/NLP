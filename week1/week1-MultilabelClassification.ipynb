{
 "cells": [
  {
   "cell_type": "markdown",
   "metadata": {},
   "source": [
    "# Predict tags on StackOverflow with linear models"
   ]
  },
  {
   "cell_type": "markdown",
   "metadata": {},
   "source": [
    "In this assignment you will learn how to predict tags for posts from [StackOverflow](https://stackoverflow.com). To solve this task you will use multilabel classification approach.\n",
    "\n",
    "### Libraries\n",
    "\n",
    "In this task you will need the following libraries:\n",
    "- [Numpy](http://www.numpy.org) — a package for scientific computing.\n",
    "- [Pandas](https://pandas.pydata.org) — a library providing high-performance, easy-to-use data structures and data analysis tools for the Python\n",
    "- [scikit-learn](http://scikit-learn.org/stable/index.html) — a tool for data mining and data analysis.\n",
    "- [NLTK](http://www.nltk.org) — a platform to work with natural language."
   ]
  },
  {
   "cell_type": "markdown",
   "metadata": {},
   "source": [
    "### Data\n",
    "\n",
    "The following cell will download all data required for this assignment into the folder `week1/data`."
   ]
  },
  {
   "cell_type": "code",
   "execution_count": 1,
   "metadata": {
    "ExecuteTime": {
     "end_time": "2018-07-22T23:13:04.618285Z",
     "start_time": "2018-07-22T23:13:00.176479Z"
    }
   },
   "outputs": [
    {
     "name": "stdout",
     "output_type": "stream",
     "text": [
      "File 'data/train.tsv' successfully downloaded\n",
      "File 'data/validation.tsv' successfully downloaded\n",
      "File 'data/test.tsv' successfully downloaded\n",
      "File 'data/text_prepare_tests.tsv' successfully downloaded\n"
     ]
    }
   ],
   "source": [
    "import sys\n",
    "sys.path.append(\"..\")\n",
    "from common.download_utils import download_week1_resources\n",
    "\n",
    "download_week1_resources()"
   ]
  },
  {
   "cell_type": "markdown",
   "metadata": {},
   "source": [
    "### Grading\n",
    "We will create a grader instance below and use it to collect your answers. Note that these outputs will be stored locally inside grader and will be uploaded to platform only after running submitting function in the last part of this assignment. If you want to make partial submission, you can run that cell any time you want."
   ]
  },
  {
   "cell_type": "code",
   "execution_count": 2,
   "metadata": {
    "ExecuteTime": {
     "end_time": "2018-07-22T23:13:10.036287Z",
     "start_time": "2018-07-22T23:13:09.833939Z"
    },
    "collapsed": true
   },
   "outputs": [],
   "source": [
    "from grader import Grader"
   ]
  },
  {
   "cell_type": "code",
   "execution_count": 3,
   "metadata": {
    "ExecuteTime": {
     "end_time": "2018-07-22T23:13:10.719876Z",
     "start_time": "2018-07-22T23:13:10.714313Z"
    },
    "collapsed": true
   },
   "outputs": [],
   "source": [
    "grader = Grader()"
   ]
  },
  {
   "cell_type": "markdown",
   "metadata": {},
   "source": [
    "### Text preprocessing"
   ]
  },
  {
   "cell_type": "markdown",
   "metadata": {},
   "source": [
    "For this and most of the following assignments you will need to use a list of stop words. It can be downloaded from *nltk*:"
   ]
  },
  {
   "cell_type": "code",
   "execution_count": 4,
   "metadata": {
    "ExecuteTime": {
     "end_time": "2018-07-22T23:13:14.432193Z",
     "start_time": "2018-07-22T23:13:12.798855Z"
    }
   },
   "outputs": [
    {
     "name": "stdout",
     "output_type": "stream",
     "text": [
      "[nltk_data] Downloading package stopwords to /Users/home/nltk_data...\n",
      "[nltk_data]   Unzipping corpora/stopwords.zip.\n"
     ]
    }
   ],
   "source": [
    "import nltk\n",
    "nltk.download('stopwords')\n",
    "from nltk.corpus import stopwords"
   ]
  },
  {
   "cell_type": "markdown",
   "metadata": {},
   "source": [
    "In this task you will deal with a dataset of post titles from StackOverflow. You are provided a split to 3 sets: *train*, *validation* and *test*. All corpora (except for *test*) contain titles of the posts and corresponding tags (100 tags are available). The *test* set is provided for Coursera's grading and doesn't contain answers. Upload the corpora using *pandas* and look at the data:"
   ]
  },
  {
   "cell_type": "code",
   "execution_count": 5,
   "metadata": {
    "ExecuteTime": {
     "end_time": "2018-07-22T23:13:17.576740Z",
     "start_time": "2018-07-22T23:13:17.064380Z"
    },
    "collapsed": true
   },
   "outputs": [],
   "source": [
    "from ast import literal_eval\n",
    "import pandas as pd\n",
    "import numpy as np"
   ]
  },
  {
   "cell_type": "code",
   "execution_count": 6,
   "metadata": {
    "ExecuteTime": {
     "end_time": "2018-07-22T23:13:18.392605Z",
     "start_time": "2018-07-22T23:13:18.384850Z"
    },
    "collapsed": true
   },
   "outputs": [],
   "source": [
    "def read_data(filename):\n",
    "    data = pd.read_csv(filename, sep='\\t')\n",
    "    data['tags'] = data['tags'].apply(literal_eval)\n",
    "    return data"
   ]
  },
  {
   "cell_type": "code",
   "execution_count": 7,
   "metadata": {
    "ExecuteTime": {
     "end_time": "2018-07-22T23:13:21.724026Z",
     "start_time": "2018-07-22T23:13:19.616333Z"
    },
    "collapsed": true
   },
   "outputs": [],
   "source": [
    "train = read_data('data/train.tsv')\n",
    "validation = read_data('data/validation.tsv')\n",
    "test = pd.read_csv('data/test.tsv', sep='\\t')"
   ]
  },
  {
   "cell_type": "code",
   "execution_count": 8,
   "metadata": {
    "ExecuteTime": {
     "end_time": "2018-07-22T23:13:22.579047Z",
     "start_time": "2018-07-22T23:13:22.551941Z"
    }
   },
   "outputs": [
    {
     "data": {
      "text/html": [
       "<div>\n",
       "<style scoped>\n",
       "    .dataframe tbody tr th:only-of-type {\n",
       "        vertical-align: middle;\n",
       "    }\n",
       "\n",
       "    .dataframe tbody tr th {\n",
       "        vertical-align: top;\n",
       "    }\n",
       "\n",
       "    .dataframe thead th {\n",
       "        text-align: right;\n",
       "    }\n",
       "</style>\n",
       "<table border=\"1\" class=\"dataframe\">\n",
       "  <thead>\n",
       "    <tr style=\"text-align: right;\">\n",
       "      <th></th>\n",
       "      <th>title</th>\n",
       "      <th>tags</th>\n",
       "    </tr>\n",
       "  </thead>\n",
       "  <tbody>\n",
       "    <tr>\n",
       "      <th>0</th>\n",
       "      <td>How to draw a stacked dotplot in R?</td>\n",
       "      <td>[r]</td>\n",
       "    </tr>\n",
       "    <tr>\n",
       "      <th>1</th>\n",
       "      <td>mysql select all records where a datetime fiel...</td>\n",
       "      <td>[php, mysql]</td>\n",
       "    </tr>\n",
       "    <tr>\n",
       "      <th>2</th>\n",
       "      <td>How to terminate windows phone 8.1 app</td>\n",
       "      <td>[c#]</td>\n",
       "    </tr>\n",
       "    <tr>\n",
       "      <th>3</th>\n",
       "      <td>get current time in a specific country via jquery</td>\n",
       "      <td>[javascript, jquery]</td>\n",
       "    </tr>\n",
       "    <tr>\n",
       "      <th>4</th>\n",
       "      <td>Configuring Tomcat to Use SSL</td>\n",
       "      <td>[java]</td>\n",
       "    </tr>\n",
       "  </tbody>\n",
       "</table>\n",
       "</div>"
      ],
      "text/plain": [
       "                                               title                  tags\n",
       "0                How to draw a stacked dotplot in R?                   [r]\n",
       "1  mysql select all records where a datetime fiel...          [php, mysql]\n",
       "2             How to terminate windows phone 8.1 app                  [c#]\n",
       "3  get current time in a specific country via jquery  [javascript, jquery]\n",
       "4                      Configuring Tomcat to Use SSL                [java]"
      ]
     },
     "execution_count": 8,
     "metadata": {},
     "output_type": "execute_result"
    }
   ],
   "source": [
    "train.head()"
   ]
  },
  {
   "cell_type": "markdown",
   "metadata": {},
   "source": [
    "As you can see, *title* column contains titles of the posts and *tags* column contains the tags. It could be noticed that a number of tags for a post is not fixed and could be as many as necessary."
   ]
  },
  {
   "cell_type": "markdown",
   "metadata": {},
   "source": [
    "For a more comfortable usage, initialize *X_train*, *X_val*, *X_test*, *y_train*, *y_val*."
   ]
  },
  {
   "cell_type": "code",
   "execution_count": 38,
   "metadata": {
    "ExecuteTime": {
     "end_time": "2018-07-22T23:20:27.048273Z",
     "start_time": "2018-07-22T23:20:27.032045Z"
    },
    "collapsed": true
   },
   "outputs": [],
   "source": [
    "X_train, y_train = train['title'].values, train['tags'].values\n",
    "X_val, y_val = validation['title'].values, validation['tags'].values\n",
    "X_test = test['title'].values"
   ]
  },
  {
   "cell_type": "markdown",
   "metadata": {},
   "source": [
    "One of the most known difficulties when working with natural data is that it's unstructured. For example, if you use it \"as is\" and extract tokens just by splitting the titles by whitespaces, you will see that there are many \"weird\" tokens like *3.5?*, *\"Flip*, etc. To prevent the problems, it's usually useful to prepare the data somehow. In this task you'll write a function, which will be also used in the other assignments. \n",
    "\n",
    "**Task 1 (TextPrepare).** Implement the function *text_prepare* following the instructions. After that, run the function *test_test_prepare* to test it on tiny cases and submit it to Coursera."
   ]
  },
  {
   "cell_type": "code",
   "execution_count": 10,
   "metadata": {
    "ExecuteTime": {
     "end_time": "2018-07-22T23:13:29.963385Z",
     "start_time": "2018-07-22T23:13:29.959001Z"
    },
    "collapsed": true
   },
   "outputs": [],
   "source": [
    "import re"
   ]
  },
  {
   "cell_type": "code",
   "execution_count": 30,
   "metadata": {
    "ExecuteTime": {
     "end_time": "2018-07-22T23:17:47.187192Z",
     "start_time": "2018-07-22T23:17:47.168800Z"
    },
    "collapsed": true
   },
   "outputs": [],
   "source": [
    "REPLACE_BY_SPACE_RE = re.compile('[/(){}\\[\\]\\|@,;]')\n",
    "BAD_SYMBOLS_RE = re.compile('[^0-9a-z #+_]')\n",
    "STOPWORDS = set(stopwords.words('english'))\n",
    "\n",
    "def text_prepare(text):\n",
    "    \"\"\"\n",
    "        text: a string\n",
    "        \n",
    "        return: modified initial string\n",
    "    \"\"\"\n",
    "    text = text.lower()# lowercase text\n",
    "    text = re.sub(REPLACE_BY_SPACE_RE, ' ',text)# replace REPLACE_BY_SPACE_RE symbols by space in text\n",
    "    text = re.sub(BAD_SYMBOLS_RE,'', text)# delete symbols which are in BAD_SYMBOLS_RE from text\n",
    "    text = text.split()\n",
    "    text = [word for word in text if word not in STOPWORDS]# delete stopwords from text\n",
    "    text = ' '.join(text)\n",
    "    return text"
   ]
  },
  {
   "cell_type": "code",
   "execution_count": 31,
   "metadata": {
    "ExecuteTime": {
     "end_time": "2018-07-22T23:17:47.772509Z",
     "start_time": "2018-07-22T23:17:47.760578Z"
    },
    "collapsed": true
   },
   "outputs": [],
   "source": [
    "def test_text_prepare():\n",
    "    examples = [\"SQL Server - any equivalent of Excel's CHOOSE function?\",\n",
    "                \"How to free c++ memory vector<int> * arr?\"]\n",
    "    answers = [\"sql server equivalent excels choose function\", \n",
    "               \"free c++ memory vectorint arr\"]\n",
    "    for ex, ans in zip(examples, answers):\n",
    "        if text_prepare(ex) != ans:\n",
    "            return \"Wrong answer for the case: '%s'\" % ex\n",
    "    return 'Basic tests are passed.'"
   ]
  },
  {
   "cell_type": "code",
   "execution_count": 33,
   "metadata": {
    "ExecuteTime": {
     "end_time": "2018-07-22T23:17:59.432790Z",
     "start_time": "2018-07-22T23:17:59.425127Z"
    }
   },
   "outputs": [
    {
     "name": "stdout",
     "output_type": "stream",
     "text": [
      "sql server equivalent excels choose function\n",
      "sql server equivalent excels choose function\n",
      "free c++ memory vectorint arr\n",
      "free c++ memory vectorint arr\n",
      "Basic tests are passed.\n"
     ]
    }
   ],
   "source": [
    "print(test_text_prepare())"
   ]
  },
  {
   "cell_type": "markdown",
   "metadata": {},
   "source": [
    "Run your implementation for questions from file *text_prepare_tests.tsv* to earn the points."
   ]
  },
  {
   "cell_type": "code",
   "execution_count": 34,
   "metadata": {
    "ExecuteTime": {
     "end_time": "2018-07-22T23:18:02.815751Z",
     "start_time": "2018-07-22T23:18:02.800421Z"
    }
   },
   "outputs": [
    {
     "name": "stdout",
     "output_type": "stream",
     "text": [
      "Current answer for task TextPrepare is:\n",
      " sqlite php readonly\n",
      "creating multiple textboxes dynamically\n",
      "self one prefer javascript\n",
      "save php date...\n"
     ]
    }
   ],
   "source": [
    "prepared_questions = []\n",
    "for line in open('data/text_prepare_tests.tsv', encoding='utf-8'):\n",
    "    line = text_prepare(line.strip())\n",
    "    prepared_questions.append(line)\n",
    "text_prepare_results = '\\n'.join(prepared_questions)\n",
    "\n",
    "grader.submit_tag('TextPrepare', text_prepare_results)"
   ]
  },
  {
   "cell_type": "markdown",
   "metadata": {},
   "source": [
    "Now we can preprocess the titles using function *text_prepare* and  making sure that the headers don't have bad symbols:"
   ]
  },
  {
   "cell_type": "code",
   "execution_count": 40,
   "metadata": {
    "ExecuteTime": {
     "end_time": "2018-07-22T23:20:44.525863Z",
     "start_time": "2018-07-22T23:20:44.518853Z"
    }
   },
   "outputs": [
    {
     "data": {
      "text/plain": [
       "array(['How to draw a stacked dotplot in R?',\n",
       "       'mysql select all records where a datetime field is less than a specified value',\n",
       "       'How to terminate windows phone 8.1 app'], dtype=object)"
      ]
     },
     "execution_count": 40,
     "metadata": {},
     "output_type": "execute_result"
    }
   ],
   "source": [
    "X_train[:3]"
   ]
  },
  {
   "cell_type": "code",
   "execution_count": 41,
   "metadata": {
    "ExecuteTime": {
     "end_time": "2018-07-22T23:20:49.943324Z",
     "start_time": "2018-07-22T23:20:48.293512Z"
    },
    "collapsed": true
   },
   "outputs": [],
   "source": [
    "X_train = [text_prepare(x) for x in X_train]\n",
    "X_val = [text_prepare(x) for x in X_val]\n",
    "X_test = [text_prepare(x) for x in X_test]"
   ]
  },
  {
   "cell_type": "code",
   "execution_count": 42,
   "metadata": {
    "ExecuteTime": {
     "end_time": "2018-07-22T23:20:49.960746Z",
     "start_time": "2018-07-22T23:20:49.945949Z"
    }
   },
   "outputs": [
    {
     "data": {
      "text/plain": [
       "['draw stacked dotplot r',\n",
       " 'mysql select records datetime field less specified value',\n",
       " 'terminate windows phone 81 app']"
      ]
     },
     "execution_count": 42,
     "metadata": {},
     "output_type": "execute_result"
    }
   ],
   "source": [
    "X_train[:3]"
   ]
  },
  {
   "cell_type": "markdown",
   "metadata": {},
   "source": [
    "For each tag and for each word calculate how many times they occur in the train corpus. \n",
    "\n",
    "**Task 2 (WordsTagsCount).** Find 3 most popular tags and 3 most popular words in the train data and submit the results to earn the points."
   ]
  },
  {
   "cell_type": "code",
   "execution_count": null,
   "metadata": {
    "collapsed": true
   },
   "outputs": [],
   "source": []
  },
  {
   "cell_type": "code",
   "execution_count": 44,
   "metadata": {
    "ExecuteTime": {
     "end_time": "2018-07-22T23:23:53.268475Z",
     "start_time": "2018-07-22T23:23:52.809841Z"
    }
   },
   "outputs": [],
   "source": [
    "# Dictionary of all tags from train corpus with their counts.\n",
    "tags_counts = {}\n",
    "# Dictionary of all words from train corpus with their counts.\n",
    "words_counts = {}\n",
    "\n",
    "######################################\n",
    "######### YOUR CODE HERE #############\n",
    "######################################\n",
    "for i in range(len(X_train)):\n",
    "    words = X_train[i].split()\n",
    "    for word in words:\n",
    "        if word in words_counts:\n",
    "            words_counts[word]+=1\n",
    "        else:\n",
    "            words_counts[word]=1\n",
    "            "
   ]
  },
  {
   "cell_type": "code",
   "execution_count": 56,
   "metadata": {
    "ExecuteTime": {
     "end_time": "2018-07-22T23:29:06.151967Z",
     "start_time": "2018-07-22T23:29:05.860310Z"
    }
   },
   "outputs": [],
   "source": [
    "for i in range(len(y_train)):\n",
    "    for j in range(len(y_train[i])):\n",
    "        if(y_train[i][j] in tags_counts):\n",
    "            tags_counts[y_train[i][j]] +=1\n",
    "        else:\n",
    "            tags_counts[y_train[i][j]] =1"
   ]
  },
  {
   "cell_type": "markdown",
   "metadata": {},
   "source": [
    "We are assuming that *tags_counts* and *words_counts* are dictionaries like `{'some_word_or_tag': frequency}`. After applying the sorting procedure, results will be look like this: `[('most_popular_word_or_tag', frequency), ('less_popular_word_or_tag', frequency), ...]`. The grader gets the results in the following format (two comma-separated strings with line break):\n",
    "\n",
    "    tag1,tag2,tag3\n",
    "    word1,word2,word3\n",
    "\n",
    "Pay attention that in this assignment you should not submit frequencies or some additional information."
   ]
  },
  {
   "cell_type": "code",
   "execution_count": 57,
   "metadata": {
    "ExecuteTime": {
     "end_time": "2018-07-22T23:29:15.219110Z",
     "start_time": "2018-07-22T23:29:15.185761Z"
    }
   },
   "outputs": [
    {
     "name": "stdout",
     "output_type": "stream",
     "text": [
      "Current answer for task WordsTagsCount is:\n",
      " javascript,c#,java\n",
      "using,php,java...\n"
     ]
    }
   ],
   "source": [
    "most_common_tags = sorted(tags_counts.items(), key=lambda x: x[1], reverse=True)[:3]\n",
    "most_common_words = sorted(words_counts.items(), key=lambda x: x[1], reverse=True)[:3]\n",
    "\n",
    "grader.submit_tag('WordsTagsCount', '%s\\n%s' % (','.join(tag for tag, _ in most_common_tags), \n",
    "                                                ','.join(word for word, _ in most_common_words)))"
   ]
  },
  {
   "cell_type": "markdown",
   "metadata": {},
   "source": [
    "### Transforming text to a vector\n",
    "\n",
    "Machine Learning algorithms work with numeric data and we cannot use the provided text data \"as is\". There are many ways to transform text data to numeric vectors. In this task you will try to use two of them.\n",
    "\n",
    "#### Bag of words\n",
    "\n",
    "One of the well-known approaches is a *bag-of-words* representation. To create this transformation, follow the steps:\n",
    "1. Find *N* most popular words in train corpus and numerate them. Now we have a dictionary of the most popular words.\n",
    "2. For each title in the corpora create a zero vector with the dimension equals to *N*.\n",
    "3. For each text in the corpora iterate over words which are in the dictionary and increase by 1 the corresponding coordinate.\n",
    "\n",
    "Let's try to do it for a toy example. Imagine that we have *N* = 4 and the list of the most popular words is \n",
    "\n",
    "    ['hi', 'you', 'me', 'are']\n",
    "\n",
    "Then we need to numerate them, for example, like this: \n",
    "\n",
    "    {'hi': 0, 'you': 1, 'me': 2, 'are': 3}\n",
    "\n",
    "And we have the text, which we want to transform to the vector:\n",
    "\n",
    "    'hi how are you'\n",
    "\n",
    "For this text we create a corresponding zero vector \n",
    "\n",
    "    [0, 0, 0, 0]\n",
    "    \n",
    "And iterate over all words, and if the word is in the dictionary, we increase the value of the corresponding position in the vector:\n",
    "\n",
    "    'hi':  [1, 0, 0, 0]\n",
    "    'how': [1, 0, 0, 0] # word 'how' is not in our dictionary\n",
    "    'are': [1, 0, 0, 1]\n",
    "    'you': [1, 1, 0, 1]\n",
    "\n",
    "The resulting vector will be \n",
    "\n",
    "    [1, 1, 0, 1]\n",
    "   \n",
    "Implement the described encoding in the function *my_bag_of_words* with the size of the dictionary equals to 5000. To find the most common words use train data. You can test your code using the function *test_my_bag_of_words*."
   ]
  },
  {
   "cell_type": "code",
   "execution_count": 62,
   "metadata": {
    "ExecuteTime": {
     "end_time": "2018-07-22T23:41:57.776896Z",
     "start_time": "2018-07-22T23:41:57.751870Z"
    }
   },
   "outputs": [],
   "source": [
    "most_common_words = sorted(words_counts.items(), key=lambda x: x[1], reverse=True)[:5000]"
   ]
  },
  {
   "cell_type": "code",
   "execution_count": 63,
   "metadata": {
    "ExecuteTime": {
     "end_time": "2018-07-22T23:42:01.565248Z",
     "start_time": "2018-07-22T23:42:01.455876Z"
    }
   },
   "outputs": [
    {
     "data": {
      "text/plain": [
       "[('using', 8278),\n",
       " ('php', 5614),\n",
       " ('java', 5501),\n",
       " ('file', 5055),\n",
       " ('javascript', 4746),\n",
       " ('error', 4388),\n",
       " ('get', 4301),\n",
       " ('c#', 4188),\n",
       " ('python', 4073),\n",
       " ('string', 3652),\n",
       " ('array', 3533),\n",
       " ('data', 3298),\n",
       " ('jquery', 3293),\n",
       " ('value', 3175),\n",
       " ('function', 2896),\n",
       " ('object', 2646),\n",
       " ('class', 2558),\n",
       " ('use', 2422),\n",
       " ('c++', 2312),\n",
       " ('list', 2137),\n",
       " ('method', 2123),\n",
       " ('multiple', 2096),\n",
       " ('text', 1929),\n",
       " ('image', 1849),\n",
       " ('page', 1847),\n",
       " ('rails', 1778),\n",
       " ('form', 1776),\n",
       " ('create', 1757),\n",
       " ('html', 1715),\n",
       " ('type', 1699),\n",
       " ('code', 1664),\n",
       " ('set', 1640),\n",
       " ('working', 1636),\n",
       " ('database', 1631),\n",
       " ('add', 1611),\n",
       " ('convert', 1586),\n",
       " ('mysql', 1572),\n",
       " ('json', 1557),\n",
       " ('c', 1550),\n",
       " ('server', 1543),\n",
       " ('variable', 1542),\n",
       " ('android', 1530),\n",
       " ('values', 1528),\n",
       " ('aspnet', 1506),\n",
       " ('way', 1454),\n",
       " ('application', 1451),\n",
       " ('change', 1441),\n",
       " ('button', 1385),\n",
       " ('find', 1383),\n",
       " ('django', 1373),\n",
       " ('one', 1370),\n",
       " ('without', 1369),\n",
       " ('windows', 1339),\n",
       " ('cannot', 1314),\n",
       " ('table', 1274),\n",
       " ('call', 1261),\n",
       " ('files', 1249),\n",
       " ('ajax', 1248),\n",
       " ('check', 1223),\n",
       " ('time', 1213),\n",
       " ('name', 1174),\n",
       " ('two', 1169),\n",
       " ('ruby', 1164),\n",
       " ('getting', 1159),\n",
       " ('date', 1137),\n",
       " ('web', 1129),\n",
       " ('make', 1127),\n",
       " ('input', 1120),\n",
       " ('user', 1120),\n",
       " ('xml', 1119),\n",
       " ('app', 1116),\n",
       " ('another', 1115),\n",
       " ('element', 1107),\n",
       " ('custom', 1093),\n",
       " ('event', 1088),\n",
       " ('api', 1083),\n",
       " ('access', 1074),\n",
       " ('url', 1057),\n",
       " ('number', 1052),\n",
       " ('spring', 1019),\n",
       " ('view', 1004),\n",
       " ('sql', 1001),\n",
       " ('return', 983),\n",
       " ('mvc', 981),\n",
       " ('select', 980),\n",
       " ('google', 974),\n",
       " ('query', 972),\n",
       " ('inside', 947),\n",
       " ('exception', 944),\n",
       " ('display', 943),\n",
       " ('column', 941),\n",
       " ('read', 940),\n",
       " ('loop', 940),\n",
       " ('swift', 934),\n",
       " ('new', 931),\n",
       " ('work', 931),\n",
       " ('remove', 931),\n",
       " ('load', 912),\n",
       " ('r', 896),\n",
       " ('objects', 867),\n",
       " ('property', 866),\n",
       " ('line', 862),\n",
       " ('cant', 859),\n",
       " ('pass', 840),\n",
       " ('click', 837),\n",
       " ('framework', 822),\n",
       " ('update', 821),\n",
       " ('script', 819),\n",
       " ('vs', 812),\n",
       " ('post', 806),\n",
       " ('null', 797),\n",
       " ('2', 795),\n",
       " ('creating', 794),\n",
       " ('net', 791),\n",
       " ('request', 787),\n",
       " ('different', 785),\n",
       " ('field', 778),\n",
       " ('key', 776),\n",
       " ('run', 776),\n",
       " ('row', 769),\n",
       " ('doesnt', 768),\n",
       " ('ios', 763),\n",
       " ('service', 751),\n",
       " ('linq', 736),\n",
       " ('div', 733),\n",
       " ('open', 723),\n",
       " ('window', 720),\n",
       " ('project', 717),\n",
       " ('wpf', 713),\n",
       " ('best', 706),\n",
       " ('format', 706),\n",
       " ('show', 695),\n",
       " ('controller', 694),\n",
       " ('variables', 694),\n",
       " ('undefined', 693),\n",
       " ('specific', 691),\n",
       " ('dynamically', 691),\n",
       " ('adding', 675),\n",
       " ('based', 657),\n",
       " ('angularjs', 653),\n",
       " ('control', 649),\n",
       " ('parameter', 648),\n",
       " ('send', 647),\n",
       " ('model', 644),\n",
       " ('3', 641),\n",
       " ('library', 639),\n",
       " ('difference', 639),\n",
       " ('insert', 636),\n",
       " ('first', 636),\n",
       " ('passing', 635),\n",
       " ('vbnet', 635),\n",
       " ('js', 632),\n",
       " ('regex', 628),\n",
       " ('elements', 627),\n",
       " ('codeigniter', 625),\n",
       " ('within', 624),\n",
       " ('eclipse', 624),\n",
       " ('path', 623),\n",
       " ('dynamic', 618),\n",
       " ('visual', 611),\n",
       " ('memory', 606),\n",
       " ('connection', 604),\n",
       " ('possible', 602),\n",
       " ('id', 598),\n",
       " ('thread', 597),\n",
       " ('save', 592),\n",
       " ('default', 591),\n",
       " ('+', 590),\n",
       " ('via', 590),\n",
       " ('running', 587),\n",
       " ('size', 585),\n",
       " ('program', 584),\n",
       " ('found', 584),\n",
       " ('content', 582),\n",
       " ('reference', 581),\n",
       " ('issue', 576),\n",
       " ('write', 571),\n",
       " ('attribute', 571),\n",
       " ('studio', 570),\n",
       " ('laravel', 561),\n",
       " ('search', 542),\n",
       " ('test', 540),\n",
       " ('excel', 540),\n",
       " ('static', 539),\n",
       " ('session', 537),\n",
       " ('output', 535),\n",
       " ('http', 530),\n",
       " ('characters', 529),\n",
       " ('character', 529),\n",
       " ('entity', 525),\n",
       " ('current', 523),\n",
       " ('problem', 522),\n",
       " ('client', 520),\n",
       " ('calling', 520),\n",
       " ('empty', 519),\n",
       " ('int', 517),\n",
       " ('simple', 517),\n",
       " ('css', 516),\n",
       " ('upload', 515),\n",
       " ('parameters', 515),\n",
       " ('command', 510),\n",
       " ('reading', 508),\n",
       " ('directory', 504),\n",
       " ('validation', 501),\n",
       " ('1', 498),\n",
       " ('map', 496),\n",
       " ('hibernate', 495),\n",
       " ('selected', 493),\n",
       " ('textbox', 492),\n",
       " ('unable', 491),\n",
       " ('browser', 486),\n",
       " ('images', 484),\n",
       " ('item', 484),\n",
       " ('link', 481),\n",
       " ('index', 480),\n",
       " ('facebook', 477),\n",
       " ('expression', 475),\n",
       " ('store', 474),\n",
       " ('setting', 474),\n",
       " ('delete', 472),\n",
       " ('single', 469),\n",
       " ('template', 468),\n",
       " ('like', 466),\n",
       " ('statement', 463),\n",
       " ('strings', 462),\n",
       " ('rows', 461),\n",
       " ('failed', 461),\n",
       " ('header', 460),\n",
       " ('replace', 460),\n",
       " ('loading', 459),\n",
       " ('login', 454),\n",
       " ('box', 453),\n",
       " ('iphone', 452),\n",
       " ('4', 450),\n",
       " ('numbers', 449),\n",
       " ('color', 448),\n",
       " ('nested', 446),\n",
       " ('returning', 445),\n",
       " ('instance', 443),\n",
       " ('print', 443),\n",
       " ('background', 443),\n",
       " ('pdf', 441),\n",
       " ('char', 440),\n",
       " ('parse', 440),\n",
       " ('could', 439),\n",
       " ('disable', 438),\n",
       " ('bootstrap', 435),\n",
       " ('message', 434),\n",
       " ('csv', 433),\n",
       " ('module', 433),\n",
       " ('tag', 426),\n",
       " ('chrome', 424),\n",
       " ('converting', 424),\n",
       " ('x', 421),\n",
       " ('parent', 419),\n",
       " ('invalid', 418),\n",
       " ('returns', 416),\n",
       " ('local', 414),\n",
       " ('methods', 409),\n",
       " ('need', 407),\n",
       " ('connect', 403),\n",
       " ('email', 401),\n",
       " ('changing', 400),\n",
       " ('trying', 399),\n",
       " ('response', 396),\n",
       " ('functions', 396),\n",
       " ('install', 393),\n",
       " ('redirect', 390),\n",
       " ('angular', 387),\n",
       " ('order', 387),\n",
       " ('dictionary', 386),\n",
       " ('arrays', 385),\n",
       " ('dropdown', 384),\n",
       " ('classes', 383),\n",
       " ('folder', 381),\n",
       " ('generate', 381),\n",
       " ('bar', 380),\n",
       " ('submit', 380),\n",
       " ('pandas', 379),\n",
       " ('process', 377),\n",
       " ('columns', 376),\n",
       " ('child', 375),\n",
       " ('checkbox', 375),\n",
       " ('source', 375),\n",
       " ('integer', 371),\n",
       " ('count', 369),\n",
       " ('sending', 368),\n",
       " ('items', 368),\n",
       " ('parsing', 368),\n",
       " ('start', 367),\n",
       " ('detect', 365),\n",
       " ('double', 365),\n",
       " ('jsp', 363),\n",
       " ('fields', 363),\n",
       " ('hide', 363),\n",
       " ('datetime', 363),\n",
       " ('console', 362),\n",
       " ('gridview', 359),\n",
       " ('pointer', 359),\n",
       " ('selenium', 357),\n",
       " ('linux', 356),\n",
       " ('constructor', 355),\n",
       " ('random', 354),\n",
       " ('7', 354),\n",
       " ('import', 354),\n",
       " ('action', 353),\n",
       " ('programmatically', 353),\n",
       " ('collection', 350),\n",
       " ('instead', 347),\n",
       " ('version', 344),\n",
       " ('datagridview', 342),\n",
       " ('filter', 340),\n",
       " ('sort', 340),\n",
       " ('objectivec', 338),\n",
       " ('website', 336),\n",
       " ('generic', 335),\n",
       " ('result', 334),\n",
       " ('last', 334),\n",
       " ('build', 333),\n",
       " ('system', 332),\n",
       " ('download', 331),\n",
       " ('split', 330),\n",
       " ('properties', 330),\n",
       " ('interface', 329),\n",
       " ('back', 329),\n",
       " ('iframe', 329),\n",
       " ('nodejs', 329),\n",
       " ('binding', 328),\n",
       " ('cell', 328),\n",
       " ('arguments', 328),\n",
       " ('syntax', 326),\n",
       " ('datatable', 326),\n",
       " ('5', 326),\n",
       " ('xcode', 325),\n",
       " ('scroll', 325),\n",
       " ('onclick', 323),\n",
       " ('binary', 323),\n",
       " ('external', 321),\n",
       " ('position', 319),\n",
       " ('execute', 318),\n",
       " ('socket', 318),\n",
       " ('0', 318),\n",
       " ('rest', 317),\n",
       " ('missing', 316),\n",
       " ('called', 316),\n",
       " ('word', 314),\n",
       " ('maps', 312),\n",
       " ('typeerror', 311),\n",
       " ('implement', 311),\n",
       " ('byte', 310),\n",
       " ('copy', 309),\n",
       " ('extension', 309),\n",
       " ('whats', 309),\n",
       " ('video', 308),\n",
       " ('refresh', 308),\n",
       " ('menu', 307),\n",
       " ('match', 306),\n",
       " ('argument', 304),\n",
       " ('node', 304),\n",
       " ('given', 304),\n",
       " ('wordpress', 303),\n",
       " ('retrieve', 300),\n",
       " ('include', 300),\n",
       " ('regular', 296),\n",
       " ('accessing', 294),\n",
       " ('canvas', 292),\n",
       " ('forms', 292),\n",
       " ('showing', 292),\n",
       " ('document', 291),\n",
       " ('results', 290),\n",
       " ('runtime', 289),\n",
       " ('ui', 289),\n",
       " ('arraylist', 287),\n",
       " ('defined', 287),\n",
       " ('handle', 285),\n",
       " ('drop', 282),\n",
       " ('errors', 281),\n",
       " ('apache', 281),\n",
       " ('group', 281),\n",
       " ('large', 279),\n",
       " ('height', 277),\n",
       " ('wcf', 277),\n",
       " ('opencv', 277),\n",
       " ('compare', 277),\n",
       " ('mobile', 276),\n",
       " ('ie', 276),\n",
       " ('address', 276),\n",
       " ('properly', 275),\n",
       " ('many', 275),\n",
       " ('member', 274),\n",
       " ('equivalent', 274),\n",
       " ('exists', 273),\n",
       " ('screen', 273),\n",
       " ('8', 273),\n",
       " ('global', 272),\n",
       " ('password', 270),\n",
       " ('plugin', 270),\n",
       " ('expected', 269),\n",
       " ('maven', 268),\n",
       " ('events', 268),\n",
       " ('vector', 268),\n",
       " ('jar', 268),\n",
       " ('types', 267),\n",
       " ('location', 267),\n",
       " ('writing', 267),\n",
       " ('numpy', 267),\n",
       " ('servlet', 267),\n",
       " ('length', 267),\n",
       " ('html5', 266),\n",
       " ('extract', 266),\n",
       " ('width', 265),\n",
       " ('stored', 265),\n",
       " ('certain', 262),\n",
       " ('dataframe', 262),\n",
       " ('dialog', 262),\n",
       " ('close', 262),\n",
       " ('used', 261),\n",
       " ('help', 261),\n",
       " ('range', 260),\n",
       " ('style', 259),\n",
       " ('handling', 258),\n",
       " ('names', 258),\n",
       " ('prevent', 258),\n",
       " ('works', 257),\n",
       " ('automatically', 257),\n",
       " ('resource', 256),\n",
       " ('every', 256),\n",
       " ('magento', 256),\n",
       " ('cast', 255),\n",
       " ('fails', 255),\n",
       " ('tomcat', 255),\n",
       " ('created', 254),\n",
       " ('warning', 254),\n",
       " ('pattern', 254),\n",
       " ('popup', 253),\n",
       " ('frame', 253),\n",
       " ('wrong', 252),\n",
       " ('contains', 251),\n",
       " ('validate', 251),\n",
       " ('displaying', 251),\n",
       " ('enum', 250),\n",
       " ('qt', 249),\n",
       " ('updating', 249),\n",
       " ('package', 248),\n",
       " ('curl', 248),\n",
       " ('stop', 247),\n",
       " ('must', 246),\n",
       " ('testing', 246),\n",
       " ('listview', 246),\n",
       " ('operator', 245),\n",
       " ('space', 244),\n",
       " ('2d', 244),\n",
       " ('authentication', 243),\n",
       " ('context', 243),\n",
       " ('put', 243),\n",
       " ('conversion', 242),\n",
       " ('keys', 240),\n",
       " ('auto', 238),\n",
       " ('structure', 238),\n",
       " ('callback', 237),\n",
       " ('main', 237),\n",
       " ('end', 236),\n",
       " ('exist', 236),\n",
       " ('token', 236),\n",
       " ('saving', 236),\n",
       " ('problems', 235),\n",
       " ('db', 235),\n",
       " ('long', 235),\n",
       " ('tab', 235),\n",
       " ('existing', 234),\n",
       " ('foreach', 234),\n",
       " ('block', 232),\n",
       " ('always', 232),\n",
       " ('dll', 232),\n",
       " ('finding', 231),\n",
       " ('grid', 231),\n",
       " ('sorting', 231),\n",
       " ('remote', 230),\n",
       " ('matplotlib', 230),\n",
       " ('option', 229),\n",
       " ('buttons', 229),\n",
       " ('sqlite', 229),\n",
       " ('determine', 228),\n",
       " ('bind', 228),\n",
       " ('modal', 227),\n",
       " ('performance', 227),\n",
       " ('tags', 227),\n",
       " ('firefox', 227),\n",
       " ('stream', 227),\n",
       " ('plot', 226),\n",
       " ('label', 226),\n",
       " ('mac', 225),\n",
       " ('combobox', 224),\n",
       " ('join', 224),\n",
       " ('uncaught', 224),\n",
       " ('decimal', 224),\n",
       " ('phone', 223),\n",
       " ('radio', 223),\n",
       " ('example', 223),\n",
       " ('chart', 222),\n",
       " ('unexpected', 221),\n",
       " ('compile', 221),\n",
       " ('attributes', 221),\n",
       " ('dom', 219),\n",
       " ('correctly', 218),\n",
       " ('checking', 218),\n",
       " ('right', 217),\n",
       " ('point', 214),\n",
       " ('lines', 214),\n",
       " ('tables', 214),\n",
       " ('base', 214),\n",
       " ('installing', 214),\n",
       " ('float', 213),\n",
       " ('mouse', 213),\n",
       " ('users', 213),\n",
       " ('basic', 211),\n",
       " ('support', 211),\n",
       " ('struct', 210),\n",
       " ('tree', 209),\n",
       " ('making', 208),\n",
       " ('unit', 208),\n",
       " ('unique', 207),\n",
       " ('scope', 207),\n",
       " ('threads', 206),\n",
       " ('duplicate', 205),\n",
       " ('catch', 205),\n",
       " ('correct', 205),\n",
       " ('hash', 205),\n",
       " ('already', 204),\n",
       " ('handler', 204),\n",
       " ('next', 204),\n",
       " ('mean', 204),\n",
       " ('even', 203),\n",
       " ('good', 203),\n",
       " ('wont', 203),\n",
       " ('edit', 202),\n",
       " ('removing', 202),\n",
       " ('uitableview', 202),\n",
       " ('task', 202),\n",
       " ('admin', 202),\n",
       " ('matrix', 201),\n",
       " ('contents', 200),\n",
       " ('valid', 200),\n",
       " ('pages', 200),\n",
       " ('namespace', 200),\n",
       " ('graph', 199),\n",
       " ('dates', 199),\n",
       " ('lists', 198),\n",
       " ('debug', 197),\n",
       " ('log', 197),\n",
       " ('const', 197),\n",
       " ('encoding', 197),\n",
       " ('sdk', 197),\n",
       " ('calculate', 196),\n",
       " ('case', 196),\n",
       " ('objective', 196),\n",
       " ('changes', 196),\n",
       " ('site', 196),\n",
       " ('active', 195),\n",
       " ('programming', 195),\n",
       " ('storing', 195),\n",
       " ('configuration', 195),\n",
       " ('side', 195),\n",
       " ('limit', 194),\n",
       " ('full', 194),\n",
       " ('sum', 194),\n",
       " ('keep', 193),\n",
       " ('jpa', 193),\n",
       " ('top', 192),\n",
       " ('listbox', 192),\n",
       " ('implementation', 190),\n",
       " ('animation', 190),\n",
       " ('unicode', 189),\n",
       " ('append', 188),\n",
       " ('override', 188),\n",
       " ('mongodb', 187),\n",
       " ('printing', 187),\n",
       " ('allow', 186),\n",
       " ('twitter', 186),\n",
       " ('winforms', 185),\n",
       " ('part', 185),\n",
       " ('record', 185),\n",
       " ('utf8', 184),\n",
       " ('resize', 184),\n",
       " ('core', 184),\n",
       " ('loaded', 183),\n",
       " ('lambda', 183),\n",
       " ('ip', 182),\n",
       " ('controls', 182),\n",
       " ('mail', 182),\n",
       " ('security', 182),\n",
       " ('times', 181),\n",
       " ('play', 181),\n",
       " ('pdo', 180),\n",
       " ('layout', 178),\n",
       " ('selection', 177),\n",
       " ('game', 176),\n",
       " ('fatal', 176),\n",
       " ('async', 176),\n",
       " ('bean', 175),\n",
       " ('language', 175),\n",
       " ('records', 175),\n",
       " ('cookie', 174),\n",
       " ('boolean', 174),\n",
       " ('webdriver', 174),\n",
       " ('outside', 173),\n",
       " ('switch', 173),\n",
       " ('draw', 173),\n",
       " ('constant', 173),\n",
       " ('gui', 172),\n",
       " ('cakephp', 172),\n",
       " ('force', 172),\n",
       " ('domain', 172),\n",
       " ('unknown', 171),\n",
       " ('true', 171),\n",
       " ('inserting', 171),\n",
       " ('wait', 169),\n",
       " ('assign', 169),\n",
       " ('port', 168),\n",
       " ('mode', 168),\n",
       " ('false', 168),\n",
       " ('named', 168),\n",
       " ('20', 168),\n",
       " ('slow', 168),\n",
       " ('mapping', 167),\n",
       " ('condition', 167),\n",
       " ('issues', 167),\n",
       " ('multidimensional', 167),\n",
       " ('requests', 167),\n",
       " ('available', 167),\n",
       " ('netbeans', 167),\n",
       " ('state', 167),\n",
       " ('focus', 167),\n",
       " ('oracle', 167),\n",
       " ('generated', 166),\n",
       " ('enable', 166),\n",
       " ('assembly', 165),\n",
       " ('ubuntu', 165),\n",
       " ('uploading', 164),\n",
       " ('clicked', 164),\n",
       " ('jdbc', 164),\n",
       " ('device', 164),\n",
       " ('yii', 163),\n",
       " ('populate', 163),\n",
       " ('gem', 163),\n",
       " ('specified', 162),\n",
       " ('swing', 162),\n",
       " ('soap', 162),\n",
       " ('engine', 161),\n",
       " ('required', 161),\n",
       " ('special', 161),\n",
       " ('initialize', 160),\n",
       " ('2010', 159),\n",
       " ('know', 159),\n",
       " ('executing', 159),\n",
       " ('exceptions', 159),\n",
       " ('checked', 159),\n",
       " ('bad', 158),\n",
       " ('native', 158),\n",
       " ('network', 158),\n",
       " ('6', 157),\n",
       " ('tkinter', 157),\n",
       " ('javafx', 157),\n",
       " ('avoid', 157),\n",
       " ('try', 157),\n",
       " ('design', 157),\n",
       " ('webservice', 156),\n",
       " ('month', 156),\n",
       " ('timeout', 156),\n",
       " ('export', 156),\n",
       " ('want', 155),\n",
       " ('404', 155),\n",
       " ('move', 155),\n",
       " ('n', 155),\n",
       " ('heroku', 155),\n",
       " ('efficient', 155),\n",
       " ('trigger', 155),\n",
       " ('question', 155),\n",
       " ('stack', 154),\n",
       " ('dont', 154),\n",
       " ('component', 154),\n",
       " ('os', 154),\n",
       " ('iterate', 154),\n",
       " ('timer', 154),\n",
       " ('10', 153),\n",
       " ('words', 152),\n",
       " ('zend', 152),\n",
       " ('body', 152),\n",
       " ('textarea', 151),\n",
       " ('implementing', 151),\n",
       " ('views', 151),\n",
       " ('linked', 150),\n",
       " ('compiler', 150),\n",
       " ('clicking', 150),\n",
       " ('symbol', 149),\n",
       " ('navigation', 148),\n",
       " ('flask', 148),\n",
       " ('clear', 148),\n",
       " ('render', 148),\n",
       " ('root', 148),\n",
       " ('datagrid', 147),\n",
       " ('second', 147),\n",
       " ('symfony2', 147),\n",
       " ('define', 147),\n",
       " ('fill', 146),\n",
       " ('pointers', 146),\n",
       " ('procedure', 145),\n",
       " ('inheritance', 145),\n",
       " ('particular', 145),\n",
       " ('route', 145),\n",
       " ('ssl', 145),\n",
       " ('private', 145),\n",
       " ('declaration', 144),\n",
       " ('left', 144),\n",
       " ('scrolling', 144),\n",
       " ('information', 144),\n",
       " ('rspec', 144),\n",
       " ('bytes', 143),\n",
       " ('behind', 143),\n",
       " ('status', 143),\n",
       " ('services', 142),\n",
       " ('fetch', 142),\n",
       " ('push', 142),\n",
       " ('calendar', 142),\n",
       " ('reflection', 142),\n",
       " ('fix', 142),\n",
       " ('spaces', 142),\n",
       " ('alert', 141),\n",
       " ('algorithm', 141),\n",
       " ('xpath', 141),\n",
       " ('apply', 140),\n",
       " ('integers', 140),\n",
       " ('youtube', 140),\n",
       " ('cache', 140),\n",
       " ('calls', 139),\n",
       " ('dependency', 139),\n",
       " ('development', 139),\n",
       " ('options', 138),\n",
       " ('max', 138),\n",
       " ('maximum', 138),\n",
       " ('https', 138),\n",
       " ('hex', 138),\n",
       " ('target', 137),\n",
       " ('environment', 137),\n",
       " ('usage', 137),\n",
       " ('progress', 137),\n",
       " ('previous', 137),\n",
       " ('internet', 136),\n",
       " ('models', 136),\n",
       " ('merge', 136),\n",
       " ('title', 136),\n",
       " ('comparing', 136),\n",
       " ('practice', 136),\n",
       " ('changed', 135),\n",
       " ('headers', 135),\n",
       " ('boost', 133),\n",
       " ('driver', 133),\n",
       " ('notification', 133),\n",
       " ('libraries', 133),\n",
       " ('shared', 132),\n",
       " ('panel', 132),\n",
       " ('statements', 132),\n",
       " ('apps', 132),\n",
       " ('symfony', 132),\n",
       " ('tests', 132),\n",
       " ('processing', 132),\n",
       " ('opengl', 132),\n",
       " ('matching', 132),\n",
       " ('font', 132),\n",
       " ('comma', 131),\n",
       " ('datepicker', 131),\n",
       " ('installed', 131),\n",
       " ('xaml', 131),\n",
       " ('public', 131),\n",
       " ('standard', 130),\n",
       " ('separate', 130),\n",
       " ('icon', 130),\n",
       " ('resources', 130),\n",
       " ('htaccess', 129),\n",
       " ('links', 129),\n",
       " ('abstract', 129),\n",
       " ('directive', 129),\n",
       " ('report', 129),\n",
       " ('container', 128),\n",
       " ('resolve', 128),\n",
       " ('hidden', 128),\n",
       " ('serialize', 128),\n",
       " ('debugging', 128),\n",
       " ('asp', 128),\n",
       " ('logging', 128),\n",
       " ('would', 128),\n",
       " ('better', 128),\n",
       " ('junit', 127),\n",
       " ('autocomplete', 127),\n",
       " ('ggplot2', 127),\n",
       " ('hashmap', 127),\n",
       " ('react', 127),\n",
       " ('configure', 127),\n",
       " ('see', 127),\n",
       " ('partial', 126),\n",
       " ('alternative', 126),\n",
       " ('queries', 126),\n",
       " ('messages', 125),\n",
       " ('selecting', 125),\n",
       " ('echo', 125),\n",
       " ('throws', 125),\n",
       " ('visible', 125),\n",
       " ('returned', 125),\n",
       " ('devise', 124),\n",
       " ('something', 124),\n",
       " ('declare', 123),\n",
       " ('generating', 123),\n",
       " ('checkboxes', 123),\n",
       " ('keyboard', 123),\n",
       " ('proxy', 123),\n",
       " ('svg', 123),\n",
       " ('whether', 122),\n",
       " ('denied', 122),\n",
       " ('escape', 122),\n",
       " ('jtable', 122),\n",
       " ('take', 122),\n",
       " ('coordinates', 122),\n",
       " ('causes', 121),\n",
       " ('quotes', 121),\n",
       " ('virtual', 121),\n",
       " ('operation', 121),\n",
       " ('formatting', 121),\n",
       " ('extjs', 120),\n",
       " ('drawing', 120),\n",
       " ('day', 120),\n",
       " ('jsf', 120),\n",
       " ('drag', 120),\n",
       " ('setup', 120),\n",
       " ('reload', 120),\n",
       " ('contain', 120),\n",
       " ('dataset', 119),\n",
       " ('product', 119),\n",
       " ('shell', 119),\n",
       " ('containing', 118),\n",
       " ('strange', 118),\n",
       " ('entities', 118),\n",
       " ('rendering', 118),\n",
       " ('twice', 118),\n",
       " ('queue', 118),\n",
       " ('delegate', 118),\n",
       " ('webpage', 118),\n",
       " ('intellij', 118),\n",
       " ('machine', 118),\n",
       " ('cells', 118),\n",
       " ('applications', 118),\n",
       " ('phonegap', 118),\n",
       " ('dropdownlist', 118),\n",
       " ('inline', 117),\n",
       " ('connecting', 117),\n",
       " ('execution', 117),\n",
       " ('gcc', 117),\n",
       " ('per', 117),\n",
       " ('blank', 116),\n",
       " ('conditional', 116),\n",
       " ('uiview', 116),\n",
       " ('opening', 116),\n",
       " ('level', 116),\n",
       " ('relationship', 116),\n",
       " ('ms', 116),\n",
       " ('modify', 115),\n",
       " ('razor', 115),\n",
       " ('safe', 115),\n",
       " ('gives', 115),\n",
       " ('etc', 115),\n",
       " ('serialization', 115),\n",
       " ('internal', 115),\n",
       " ('widget', 115),\n",
       " ('initialization', 115),\n",
       " ('relative', 115),\n",
       " ('definition', 114),\n",
       " ('jqgrid', 114),\n",
       " ('nodes', 114),\n",
       " ('capture', 114),\n",
       " ('timestamp', 114),\n",
       " ('building', 113),\n",
       " ('batch', 113),\n",
       " ('importing', 113),\n",
       " ('else', 112),\n",
       " ('compiling', 112),\n",
       " ('expressions', 112),\n",
       " ('retrieving', 112),\n",
       " ('allowed', 112),\n",
       " ('tcp', 111),\n",
       " ('added', 111),\n",
       " ('numeric', 111),\n",
       " ('still', 111),\n",
       " ('seconds', 110),\n",
       " ('year', 110),\n",
       " ('sqlalchemy', 110),\n",
       " ('doctrine', 110),\n",
       " ('host', 110),\n",
       " ('selector', 109),\n",
       " ('cookies', 109),\n",
       " ('highcharts', 109),\n",
       " ('boot', 109),\n",
       " ('href', 108),\n",
       " ('nsstring', 108),\n",
       " ('foreign', 108),\n",
       " ('embedded', 107),\n",
       " ('jackson', 107),\n",
       " ('config', 107),\n",
       " ('starting', 107),\n",
       " ('annotation', 107),\n",
       " ('fast', 107),\n",
       " ('jframe', 107),\n",
       " ('section', 106),\n",
       " ('reset', 106),\n",
       " ('firing', 106),\n",
       " ('touch', 106),\n",
       " ('injection', 106),\n",
       " ('protocol', 106),\n",
       " ('webbrowser', 105),\n",
       " ('ascii', 105),\n",
       " ('points', 105),\n",
       " ('closing', 105),\n",
       " ('jaxb', 105),\n",
       " ('tabs', 105),\n",
       " ('passed', 104),\n",
       " ('sharepoint', 104),\n",
       " ('labels', 104),\n",
       " ('cursor', 104),\n",
       " ('hover', 104),\n",
       " ('overriding', 104),\n",
       " ('transaction', 104),\n",
       " ('trouble', 104),\n",
       " ('postgresql', 104),\n",
       " ('explorer', 103),\n",
       " ('recursive', 103),\n",
       " ('able', 103),\n",
       " ('gwt', 103),\n",
       " ('localhost', 103),\n",
       " ('sequence', 103),\n",
       " ('specify', 103),\n",
       " ('assignment', 103),\n",
       " ('asynchronous', 103),\n",
       " ('replacing', 103),\n",
       " ('urls', 103),\n",
       " ('toggle', 102),\n",
       " ('days', 102),\n",
       " ('templates', 102),\n",
       " ('fastest', 102),\n",
       " ('webview', 102),\n",
       " ('exit', 102),\n",
       " ('deleting', 102),\n",
       " ('deploy', 102),\n",
       " ('giving', 102),\n",
       " ('fixed', 102),\n",
       " ('restful', 102),\n",
       " ('base64', 102),\n",
       " ('anchor', 102),\n",
       " ('nil', 101),\n",
       " ('v3', 101),\n",
       " ('axis', 101),\n",
       " ('go', 101),\n",
       " ('moving', 100),\n",
       " ('enter', 100),\n",
       " ('nhibernate', 100),\n",
       " ('proper', 100),\n",
       " ('vb', 100),\n",
       " ('osx', 100),\n",
       " ('digits', 100),\n",
       " ('500', 100),\n",
       " ('activerecord', 99),\n",
       " ('stl', 99),\n",
       " ('casting', 99),\n",
       " ('ignore', 99),\n",
       " ('settings', 99),\n",
       " ('permission', 99),\n",
       " ('faster', 99),\n",
       " ('border', 98),\n",
       " ('including', 98),\n",
       " ('loops', 98),\n",
       " ('pagination', 98),\n",
       " ('lock', 98),\n",
       " ('mysqli', 98),\n",
       " ('sent', 97),\n",
       " ('incorrect', 97),\n",
       " ('activity', 97),\n",
       " ('real', 97),\n",
       " ('serial', 97),\n",
       " ('declared', 97),\n",
       " ('username', 97),\n",
       " ('effect', 97),\n",
       " ('s3', 97),\n",
       " ('caching', 97),\n",
       " ('complex', 96),\n",
       " ('complete', 96),\n",
       " ('invoke', 96),\n",
       " ('comparison', 96),\n",
       " ('uitableviewcell', 96),\n",
       " ('safari', 96),\n",
       " ('across', 96),\n",
       " ('zip', 95),\n",
       " ('speed', 95),\n",
       " ('increment', 95),\n",
       " ...]"
      ]
     },
     "execution_count": 63,
     "metadata": {},
     "output_type": "execute_result"
    }
   ],
   "source": [
    "most_common_words"
   ]
  },
  {
   "cell_type": "code",
   "execution_count": 70,
   "metadata": {
    "ExecuteTime": {
     "end_time": "2018-07-22T23:44:32.738308Z",
     "start_time": "2018-07-22T23:44:32.728762Z"
    }
   },
   "outputs": [],
   "source": [
    "indx=0\n",
    "WORDS_TO_INDEX={}\n",
    "for word in most_common_words:\n",
    "    WORDS_TO_INDEX[word[0]]=indx\n",
    "    indx+=1\n",
    "    "
   ]
  },
  {
   "cell_type": "code",
   "execution_count": 71,
   "metadata": {
    "ExecuteTime": {
     "end_time": "2018-07-22T23:45:27.385314Z",
     "start_time": "2018-07-22T23:45:27.374736Z"
    },
    "collapsed": true
   },
   "outputs": [],
   "source": [
    "INDEX_TO_WORDS={}\n",
    "indx=0\n",
    "for word in most_common_words:\n",
    "    INDEX_TO_WORDS[indx]= word[0]\n",
    "    indx+=1\n",
    "    "
   ]
  },
  {
   "cell_type": "code",
   "execution_count": 79,
   "metadata": {
    "ExecuteTime": {
     "end_time": "2018-07-22T23:52:29.576761Z",
     "start_time": "2018-07-22T23:52:29.560707Z"
    },
    "collapsed": true
   },
   "outputs": [],
   "source": [
    "DICT_SIZE = 5000\n",
    "# WORDS_TO_INDEX = ####### YOUR CODE HERE #######\n",
    "# INDEX_TO_WORDS = ####### YOUR CODE HERE #######\n",
    "ALL_WORDS = WORDS_TO_INDEX.keys()\n",
    "\n",
    "def my_bag_of_words(text, words_to_index, dict_size):\n",
    "    \"\"\"\n",
    "        text: a string\n",
    "        dict_size: size of the dictionary\n",
    "        \n",
    "        return a vector which is a bag-of-words representation of 'text'\n",
    "    \"\"\"\n",
    "    result_vector = np.zeros(dict_size)\n",
    "    ######################################\n",
    "    ######### YOUR CODE HERE #############\n",
    "    words = text.split()\n",
    "    for word in words:\n",
    "        if word in words_to_index:\n",
    "            result_vector[words_to_index[word]]=1\n",
    "    \n",
    "    ######################################\n",
    "    return result_vector"
   ]
  },
  {
   "cell_type": "code",
   "execution_count": 80,
   "metadata": {
    "ExecuteTime": {
     "end_time": "2018-07-22T23:52:30.209225Z",
     "start_time": "2018-07-22T23:52:30.198063Z"
    },
    "collapsed": true
   },
   "outputs": [],
   "source": [
    "def test_my_bag_of_words():\n",
    "    words_to_index = {'hi': 0, 'you': 1, 'me': 2, 'are': 3}\n",
    "    examples = ['hi how are you']\n",
    "    answers = [[1, 1, 0, 1]]\n",
    "    for ex, ans in zip(examples, answers):\n",
    "        if (my_bag_of_words(ex, words_to_index, 4) != ans).any():\n",
    "            return \"Wrong answer for the case: '%s'\" % ex\n",
    "    return 'Basic tests are passed.'"
   ]
  },
  {
   "cell_type": "code",
   "execution_count": 81,
   "metadata": {
    "ExecuteTime": {
     "end_time": "2018-07-22T23:52:31.660785Z",
     "start_time": "2018-07-22T23:52:31.654282Z"
    }
   },
   "outputs": [
    {
     "name": "stdout",
     "output_type": "stream",
     "text": [
      "Basic tests are passed.\n"
     ]
    }
   ],
   "source": [
    "print(test_my_bag_of_words())"
   ]
  },
  {
   "cell_type": "markdown",
   "metadata": {},
   "source": [
    "Now apply the implemented function to all samples (this might take up to a minute):"
   ]
  },
  {
   "cell_type": "code",
   "execution_count": 82,
   "metadata": {
    "ExecuteTime": {
     "end_time": "2018-07-22T23:52:40.099428Z",
     "start_time": "2018-07-22T23:52:40.094578Z"
    },
    "collapsed": true
   },
   "outputs": [],
   "source": [
    "from scipy import sparse as sp_sparse"
   ]
  },
  {
   "cell_type": "code",
   "execution_count": 121,
   "metadata": {
    "ExecuteTime": {
     "end_time": "2018-07-23T01:01:00.687044Z",
     "start_time": "2018-07-23T01:00:03.861135Z"
    }
   },
   "outputs": [
    {
     "name": "stdout",
     "output_type": "stream",
     "text": [
      "X_train shape  (100000, 5000)\n",
      "X_val shape  (30000, 5000)\n",
      "X_test shape  (20000, 5000)\n"
     ]
    }
   ],
   "source": [
    "X_train_mybag = sp_sparse.vstack([sp_sparse.csr_matrix(my_bag_of_words(text, WORDS_TO_INDEX, DICT_SIZE)) for text in X_train])\n",
    "X_val_mybag = sp_sparse.vstack([sp_sparse.csr_matrix(my_bag_of_words(text, WORDS_TO_INDEX, DICT_SIZE)) for text in X_val])\n",
    "X_test_mybag = sp_sparse.vstack([sp_sparse.csr_matrix(my_bag_of_words(text, WORDS_TO_INDEX, DICT_SIZE)) for text in X_test])\n",
    "print('X_train shape ', X_train_mybag.shape)\n",
    "print('X_val shape ', X_val_mybag.shape)\n",
    "print('X_test shape ', X_test_mybag.shape)"
   ]
  },
  {
   "cell_type": "markdown",
   "metadata": {},
   "source": [
    "As you might notice, we transform the data to sparse representation, to store the useful information efficiently. There are many [types](https://docs.scipy.org/doc/scipy/reference/sparse.html) of such representations, however sklearn algorithms can work only with [csr](https://docs.scipy.org/doc/scipy/reference/generated/scipy.sparse.csr_matrix.html#scipy.sparse.csr_matrix) matrix, so we will use this one."
   ]
  },
  {
   "cell_type": "markdown",
   "metadata": {},
   "source": [
    "**Task 3 (BagOfWords).** For the 11th row in *X_train_mybag* find how many non-zero elements it has. In this task the answer (variable *non_zero_elements_count*) should be a number, e.g. 20."
   ]
  },
  {
   "cell_type": "code",
   "execution_count": 122,
   "metadata": {
    "ExecuteTime": {
     "end_time": "2018-07-23T01:01:13.773192Z",
     "start_time": "2018-07-23T01:01:13.761994Z"
    }
   },
   "outputs": [
    {
     "name": "stdout",
     "output_type": "stream",
     "text": [
      "Current answer for task BagOfWords is:\n",
      " 7.0...\n"
     ]
    }
   ],
   "source": [
    "row = X_train_mybag[10].toarray()[0]\n",
    "non_zero_elements_count = np.sum(row)\n",
    "grader.submit_tag('BagOfWords', str(non_zero_elements_count))"
   ]
  },
  {
   "cell_type": "markdown",
   "metadata": {},
   "source": [
    "#### TF-IDF\n",
    "\n",
    "The second approach extends the bag-of-words framework by taking into account total frequencies of words in the corpora. It helps to penalize too frequent words and provide better features space. \n",
    "\n",
    "Implement function *tfidf_features* using class [TfidfVectorizer](http://scikit-learn.org/stable/modules/generated/sklearn.feature_extraction.text.TfidfVectorizer.html) from *scikit-learn*. Use *train* corpus to train a vectorizer. Don't forget to take a look into the arguments that you can pass to it. We suggest that you filter out too rare words (occur less than in 5 titles) and too frequent words (occur more than in 90% of the titles). Also, use bigrams along with unigrams in your vocabulary. "
   ]
  },
  {
   "cell_type": "code",
   "execution_count": 123,
   "metadata": {
    "ExecuteTime": {
     "end_time": "2018-07-23T01:01:15.496690Z",
     "start_time": "2018-07-23T01:01:15.491843Z"
    },
    "collapsed": true
   },
   "outputs": [],
   "source": [
    "from sklearn.feature_extraction.text import TfidfVectorizer"
   ]
  },
  {
   "cell_type": "code",
   "execution_count": 124,
   "metadata": {
    "ExecuteTime": {
     "end_time": "2018-07-23T01:02:10.826951Z",
     "start_time": "2018-07-23T01:02:10.801960Z"
    },
    "collapsed": true
   },
   "outputs": [],
   "source": [
    "def tfidf_features(X_train, X_val, X_test):\n",
    "    \"\"\"\n",
    "        X_train, X_val, X_test — samples        \n",
    "        return TF-IDF vectorized representation of each sample and vocabulary\n",
    "    \"\"\"\n",
    "    # Create TF-IDF vectorizer with a proper parameters choice\n",
    "    # Fit the vectorizer on the train set\n",
    "    # Transform the train, test, and val sets and return the result\n",
    "    \n",
    "    \n",
    "    tfidf_vectorizer = TfidfVectorizer(stop_words='english', min_df = 5, max_df= 0.9, ngram_range=(1,2), \n",
    "                                       token_pattern='\\S+')\n",
    "    X_train = tfidf_vectorizer.fit_transform(X_train)\n",
    "    X_val = tfidf_vectorizer.transform(X_val)\n",
    "    X_test = tfidf_vectorizer.transform(X_test)\n",
    "    ####### YOUR CODE HERE #######\n",
    "    \n",
    "    ######################################\n",
    "    ######### YOUR CODE HERE #############\n",
    "    ######################################\n",
    "    \n",
    "    return X_train, X_val, X_test, tfidf_vectorizer.vocabulary_"
   ]
  },
  {
   "cell_type": "markdown",
   "metadata": {},
   "source": [
    "Once you have done text preprocessing, always have a look at the results. Be very careful at this step, because the performance of future models will drastically depend on it. \n",
    "\n",
    "In this case, check whether you have c++ or c# in your vocabulary, as they are obviously important tokens in our tags prediction task:"
   ]
  },
  {
   "cell_type": "code",
   "execution_count": 125,
   "metadata": {
    "ExecuteTime": {
     "end_time": "2018-07-23T01:02:17.954756Z",
     "start_time": "2018-07-23T01:02:12.393877Z"
    }
   },
   "outputs": [],
   "source": [
    "X_train_tfidf, X_val_tfidf, X_test_tfidf, tfidf_vocab = tfidf_features(X_train, X_val, X_test)\n",
    "tfidf_reversed_vocab = {i:word for word,i in tfidf_vocab.items()}"
   ]
  },
  {
   "cell_type": "code",
   "execution_count": 126,
   "metadata": {
    "ExecuteTime": {
     "end_time": "2018-07-23T01:02:17.974410Z",
     "start_time": "2018-07-23T01:02:17.957671Z"
    }
   },
   "outputs": [
    {
     "name": "stdout",
     "output_type": "stream",
     "text": [
      "True\n",
      "True\n"
     ]
    }
   ],
   "source": [
    "######### YOUR CODE HERE #############\n",
    "print('c++' in tfidf_vocab)\n",
    "print('c#' in tfidf_vocab)"
   ]
  },
  {
   "cell_type": "markdown",
   "metadata": {},
   "source": [
    "If you can't find it, we need to understand how did it happen that we lost them? It happened during the built-in tokenization of TfidfVectorizer. Luckily, we can influence on this process. Get back to the function above and use '(\\S+)' regexp as a *token_pattern* in the constructor of the vectorizer.  "
   ]
  },
  {
   "cell_type": "markdown",
   "metadata": {},
   "source": [
    "Now, use this transormation for the data and check again."
   ]
  },
  {
   "cell_type": "markdown",
   "metadata": {},
   "source": [
    "### MultiLabel classifier\n",
    "\n",
    "As we have noticed before, in this task each example can have multiple tags. To deal with such kind of prediction, we need to transform labels in a binary form and the prediction will be a mask of 0s and 1s. For this purpose it is convenient to use [MultiLabelBinarizer](http://scikit-learn.org/stable/modules/generated/sklearn.preprocessing.MultiLabelBinarizer.html) from *sklearn*."
   ]
  },
  {
   "cell_type": "code",
   "execution_count": 128,
   "metadata": {
    "ExecuteTime": {
     "end_time": "2018-07-23T01:02:22.430670Z",
     "start_time": "2018-07-23T01:02:22.425672Z"
    },
    "collapsed": true
   },
   "outputs": [],
   "source": [
    "from sklearn.preprocessing import MultiLabelBinarizer"
   ]
  },
  {
   "cell_type": "code",
   "execution_count": 130,
   "metadata": {
    "ExecuteTime": {
     "end_time": "2018-07-23T01:02:28.166918Z",
     "start_time": "2018-07-23T01:02:28.139659Z"
    }
   },
   "outputs": [
    {
     "ename": "KeyError",
     "evalue": "0",
     "output_type": "error",
     "traceback": [
      "\u001b[0;31m---------------------------------------------------------------------------\u001b[0m",
      "\u001b[0;31mKeyError\u001b[0m                                  Traceback (most recent call last)",
      "\u001b[0;32m<ipython-input-130-a9aa0885d80e>\u001b[0m in \u001b[0;36m<module>\u001b[0;34m()\u001b[0m\n\u001b[1;32m      1\u001b[0m \u001b[0mmlb\u001b[0m \u001b[0;34m=\u001b[0m \u001b[0mMultiLabelBinarizer\u001b[0m\u001b[0;34m(\u001b[0m\u001b[0mclasses\u001b[0m\u001b[0;34m=\u001b[0m\u001b[0msorted\u001b[0m\u001b[0;34m(\u001b[0m\u001b[0mtags_counts\u001b[0m\u001b[0;34m.\u001b[0m\u001b[0mkeys\u001b[0m\u001b[0;34m(\u001b[0m\u001b[0;34m)\u001b[0m\u001b[0;34m)\u001b[0m\u001b[0;34m)\u001b[0m\u001b[0;34m\u001b[0m\u001b[0m\n\u001b[0;32m----> 2\u001b[0;31m \u001b[0my_train\u001b[0m \u001b[0;34m=\u001b[0m \u001b[0mmlb\u001b[0m\u001b[0;34m.\u001b[0m\u001b[0mfit_transform\u001b[0m\u001b[0;34m(\u001b[0m\u001b[0my_train\u001b[0m\u001b[0;34m)\u001b[0m\u001b[0;34m\u001b[0m\u001b[0m\n\u001b[0m\u001b[1;32m      3\u001b[0m \u001b[0my_val\u001b[0m \u001b[0;34m=\u001b[0m \u001b[0mmlb\u001b[0m\u001b[0;34m.\u001b[0m\u001b[0mfit_transform\u001b[0m\u001b[0;34m(\u001b[0m\u001b[0my_val\u001b[0m\u001b[0;34m)\u001b[0m\u001b[0;34m\u001b[0m\u001b[0m\n",
      "\u001b[0;32m~/anaconda3/envs/ML/lib/python3.5/site-packages/sklearn/preprocessing/label.py\u001b[0m in \u001b[0;36mfit_transform\u001b[0;34m(self, y)\u001b[0m\n\u001b[1;32m    720\u001b[0m         \"\"\"\n\u001b[1;32m    721\u001b[0m         \u001b[0;32mif\u001b[0m \u001b[0mself\u001b[0m\u001b[0;34m.\u001b[0m\u001b[0mclasses\u001b[0m \u001b[0;32mis\u001b[0m \u001b[0;32mnot\u001b[0m \u001b[0;32mNone\u001b[0m\u001b[0;34m:\u001b[0m\u001b[0;34m\u001b[0m\u001b[0m\n\u001b[0;32m--> 722\u001b[0;31m             \u001b[0;32mreturn\u001b[0m \u001b[0mself\u001b[0m\u001b[0;34m.\u001b[0m\u001b[0mfit\u001b[0m\u001b[0;34m(\u001b[0m\u001b[0my\u001b[0m\u001b[0;34m)\u001b[0m\u001b[0;34m.\u001b[0m\u001b[0mtransform\u001b[0m\u001b[0;34m(\u001b[0m\u001b[0my\u001b[0m\u001b[0;34m)\u001b[0m\u001b[0;34m\u001b[0m\u001b[0m\n\u001b[0m\u001b[1;32m    723\u001b[0m \u001b[0;34m\u001b[0m\u001b[0m\n\u001b[1;32m    724\u001b[0m         \u001b[0;31m# Automatically increment on new class\u001b[0m\u001b[0;34m\u001b[0m\u001b[0;34m\u001b[0m\u001b[0m\n",
      "\u001b[0;32m~/anaconda3/envs/ML/lib/python3.5/site-packages/sklearn/preprocessing/label.py\u001b[0m in \u001b[0;36mtransform\u001b[0;34m(self, y)\u001b[0m\n\u001b[1;32m    763\u001b[0m \u001b[0;34m\u001b[0m\u001b[0m\n\u001b[1;32m    764\u001b[0m         \u001b[0mclass_to_index\u001b[0m \u001b[0;34m=\u001b[0m \u001b[0mdict\u001b[0m\u001b[0;34m(\u001b[0m\u001b[0mzip\u001b[0m\u001b[0;34m(\u001b[0m\u001b[0mself\u001b[0m\u001b[0;34m.\u001b[0m\u001b[0mclasses_\u001b[0m\u001b[0;34m,\u001b[0m \u001b[0mrange\u001b[0m\u001b[0;34m(\u001b[0m\u001b[0mlen\u001b[0m\u001b[0;34m(\u001b[0m\u001b[0mself\u001b[0m\u001b[0;34m.\u001b[0m\u001b[0mclasses_\u001b[0m\u001b[0;34m)\u001b[0m\u001b[0;34m)\u001b[0m\u001b[0;34m)\u001b[0m\u001b[0;34m)\u001b[0m\u001b[0;34m\u001b[0m\u001b[0m\n\u001b[0;32m--> 765\u001b[0;31m         \u001b[0myt\u001b[0m \u001b[0;34m=\u001b[0m \u001b[0mself\u001b[0m\u001b[0;34m.\u001b[0m\u001b[0m_transform\u001b[0m\u001b[0;34m(\u001b[0m\u001b[0my\u001b[0m\u001b[0;34m,\u001b[0m \u001b[0mclass_to_index\u001b[0m\u001b[0;34m)\u001b[0m\u001b[0;34m\u001b[0m\u001b[0m\n\u001b[0m\u001b[1;32m    766\u001b[0m \u001b[0;34m\u001b[0m\u001b[0m\n\u001b[1;32m    767\u001b[0m         \u001b[0;32mif\u001b[0m \u001b[0;32mnot\u001b[0m \u001b[0mself\u001b[0m\u001b[0;34m.\u001b[0m\u001b[0msparse_output\u001b[0m\u001b[0;34m:\u001b[0m\u001b[0;34m\u001b[0m\u001b[0m\n",
      "\u001b[0;32m~/anaconda3/envs/ML/lib/python3.5/site-packages/sklearn/preprocessing/label.py\u001b[0m in \u001b[0;36m_transform\u001b[0;34m(self, y, class_mapping)\u001b[0m\n\u001b[1;32m    787\u001b[0m         \u001b[0mindptr\u001b[0m \u001b[0;34m=\u001b[0m \u001b[0marray\u001b[0m\u001b[0;34m.\u001b[0m\u001b[0marray\u001b[0m\u001b[0;34m(\u001b[0m\u001b[0;34m'i'\u001b[0m\u001b[0;34m,\u001b[0m \u001b[0;34m[\u001b[0m\u001b[0;36m0\u001b[0m\u001b[0;34m]\u001b[0m\u001b[0;34m)\u001b[0m\u001b[0;34m\u001b[0m\u001b[0m\n\u001b[1;32m    788\u001b[0m         \u001b[0;32mfor\u001b[0m \u001b[0mlabels\u001b[0m \u001b[0;32min\u001b[0m \u001b[0my\u001b[0m\u001b[0;34m:\u001b[0m\u001b[0;34m\u001b[0m\u001b[0m\n\u001b[0;32m--> 789\u001b[0;31m             \u001b[0mindices\u001b[0m\u001b[0;34m.\u001b[0m\u001b[0mextend\u001b[0m\u001b[0;34m(\u001b[0m\u001b[0mset\u001b[0m\u001b[0;34m(\u001b[0m\u001b[0mclass_mapping\u001b[0m\u001b[0;34m[\u001b[0m\u001b[0mlabel\u001b[0m\u001b[0;34m]\u001b[0m \u001b[0;32mfor\u001b[0m \u001b[0mlabel\u001b[0m \u001b[0;32min\u001b[0m \u001b[0mlabels\u001b[0m\u001b[0;34m)\u001b[0m\u001b[0;34m)\u001b[0m\u001b[0;34m\u001b[0m\u001b[0m\n\u001b[0m\u001b[1;32m    790\u001b[0m             \u001b[0mindptr\u001b[0m\u001b[0;34m.\u001b[0m\u001b[0mappend\u001b[0m\u001b[0;34m(\u001b[0m\u001b[0mlen\u001b[0m\u001b[0;34m(\u001b[0m\u001b[0mindices\u001b[0m\u001b[0;34m)\u001b[0m\u001b[0;34m)\u001b[0m\u001b[0;34m\u001b[0m\u001b[0m\n\u001b[1;32m    791\u001b[0m         \u001b[0mdata\u001b[0m \u001b[0;34m=\u001b[0m \u001b[0mnp\u001b[0m\u001b[0;34m.\u001b[0m\u001b[0mones\u001b[0m\u001b[0;34m(\u001b[0m\u001b[0mlen\u001b[0m\u001b[0;34m(\u001b[0m\u001b[0mindices\u001b[0m\u001b[0;34m)\u001b[0m\u001b[0;34m,\u001b[0m \u001b[0mdtype\u001b[0m\u001b[0;34m=\u001b[0m\u001b[0mint\u001b[0m\u001b[0;34m)\u001b[0m\u001b[0;34m\u001b[0m\u001b[0m\n",
      "\u001b[0;32m~/anaconda3/envs/ML/lib/python3.5/site-packages/sklearn/preprocessing/label.py\u001b[0m in \u001b[0;36m<genexpr>\u001b[0;34m(.0)\u001b[0m\n\u001b[1;32m    787\u001b[0m         \u001b[0mindptr\u001b[0m \u001b[0;34m=\u001b[0m \u001b[0marray\u001b[0m\u001b[0;34m.\u001b[0m\u001b[0marray\u001b[0m\u001b[0;34m(\u001b[0m\u001b[0;34m'i'\u001b[0m\u001b[0;34m,\u001b[0m \u001b[0;34m[\u001b[0m\u001b[0;36m0\u001b[0m\u001b[0;34m]\u001b[0m\u001b[0;34m)\u001b[0m\u001b[0;34m\u001b[0m\u001b[0m\n\u001b[1;32m    788\u001b[0m         \u001b[0;32mfor\u001b[0m \u001b[0mlabels\u001b[0m \u001b[0;32min\u001b[0m \u001b[0my\u001b[0m\u001b[0;34m:\u001b[0m\u001b[0;34m\u001b[0m\u001b[0m\n\u001b[0;32m--> 789\u001b[0;31m             \u001b[0mindices\u001b[0m\u001b[0;34m.\u001b[0m\u001b[0mextend\u001b[0m\u001b[0;34m(\u001b[0m\u001b[0mset\u001b[0m\u001b[0;34m(\u001b[0m\u001b[0mclass_mapping\u001b[0m\u001b[0;34m[\u001b[0m\u001b[0mlabel\u001b[0m\u001b[0;34m]\u001b[0m \u001b[0;32mfor\u001b[0m \u001b[0mlabel\u001b[0m \u001b[0;32min\u001b[0m \u001b[0mlabels\u001b[0m\u001b[0;34m)\u001b[0m\u001b[0;34m)\u001b[0m\u001b[0;34m\u001b[0m\u001b[0m\n\u001b[0m\u001b[1;32m    790\u001b[0m             \u001b[0mindptr\u001b[0m\u001b[0;34m.\u001b[0m\u001b[0mappend\u001b[0m\u001b[0;34m(\u001b[0m\u001b[0mlen\u001b[0m\u001b[0;34m(\u001b[0m\u001b[0mindices\u001b[0m\u001b[0;34m)\u001b[0m\u001b[0;34m)\u001b[0m\u001b[0;34m\u001b[0m\u001b[0m\n\u001b[1;32m    791\u001b[0m         \u001b[0mdata\u001b[0m \u001b[0;34m=\u001b[0m \u001b[0mnp\u001b[0m\u001b[0;34m.\u001b[0m\u001b[0mones\u001b[0m\u001b[0;34m(\u001b[0m\u001b[0mlen\u001b[0m\u001b[0;34m(\u001b[0m\u001b[0mindices\u001b[0m\u001b[0;34m)\u001b[0m\u001b[0;34m,\u001b[0m \u001b[0mdtype\u001b[0m\u001b[0;34m=\u001b[0m\u001b[0mint\u001b[0m\u001b[0;34m)\u001b[0m\u001b[0;34m\u001b[0m\u001b[0m\n",
      "\u001b[0;31mKeyError\u001b[0m: 0"
     ]
    }
   ],
   "source": [
    "mlb = MultiLabelBinarizer(classes=sorted(tags_counts.keys()))\n",
    "y_train = mlb.fit_transform(y_train)\n",
    "y_val = mlb.fit_transform(y_val)"
   ]
  },
  {
   "cell_type": "markdown",
   "metadata": {},
   "source": [
    "Implement the function *train_classifier* for training a classifier. In this task we suggest to use One-vs-Rest approach, which is implemented in [OneVsRestClassifier](http://scikit-learn.org/stable/modules/generated/sklearn.multiclass.OneVsRestClassifier.html) class. In this approach *k* classifiers (= number of tags) are trained. As a basic classifier, use [LogisticRegression](http://scikit-learn.org/stable/modules/generated/sklearn.linear_model.LogisticRegression.html). It is one of the simplest methods, but often it performs good enough in text classification tasks. It might take some time, because a number of classifiers to train is large."
   ]
  },
  {
   "cell_type": "code",
   "execution_count": 133,
   "metadata": {
    "ExecuteTime": {
     "end_time": "2018-07-23T01:03:33.424028Z",
     "start_time": "2018-07-23T01:03:33.418568Z"
    },
    "collapsed": true
   },
   "outputs": [],
   "source": [
    "from sklearn.multiclass import OneVsRestClassifier\n",
    "from sklearn.linear_model import LogisticRegression, RidgeClassifier"
   ]
  },
  {
   "cell_type": "code",
   "execution_count": 134,
   "metadata": {
    "ExecuteTime": {
     "end_time": "2018-07-23T01:03:34.231279Z",
     "start_time": "2018-07-23T01:03:34.219923Z"
    },
    "collapsed": true
   },
   "outputs": [],
   "source": [
    "def train_classifier(X_train, y_train):\n",
    "    \"\"\"\n",
    "      X_train, y_train — training data\n",
    "      \n",
    "      return: trained classifier\n",
    "    \"\"\"\n",
    "    \n",
    "    # Create and fit LogisticRegression wraped into OneVsRestClassifier.\n",
    "    classifier = OneVsRestClassifier(LogisticRegression(), n_jobs=-1)\n",
    "    classifier.fit(X_train,y_train)\n",
    "    return(classifier)\n",
    "    ######################################\n",
    "    ######### YOUR CODE HERE #############\n",
    "    ######################################    "
   ]
  },
  {
   "cell_type": "markdown",
   "metadata": {},
   "source": [
    "Train the classifiers for different data transformations: *bag-of-words* and *tf-idf*."
   ]
  },
  {
   "cell_type": "code",
   "execution_count": 135,
   "metadata": {
    "ExecuteTime": {
     "end_time": "2018-07-23T01:04:49.436214Z",
     "start_time": "2018-07-23T01:03:36.049993Z"
    }
   },
   "outputs": [],
   "source": [
    "classifier_mybag = train_classifier(X_train_mybag, y_train)\n",
    "classifier_tfidf = train_classifier(X_train_tfidf, y_train)"
   ]
  },
  {
   "cell_type": "markdown",
   "metadata": {},
   "source": [
    "Now you can create predictions for the data. You will need two types of predictions: labels and scores."
   ]
  },
  {
   "cell_type": "code",
   "execution_count": 136,
   "metadata": {
    "ExecuteTime": {
     "end_time": "2018-07-23T01:04:53.285133Z",
     "start_time": "2018-07-23T01:04:52.584726Z"
    }
   },
   "outputs": [],
   "source": [
    "y_val_predicted_labels_mybag = classifier_mybag.predict(X_val_mybag)\n",
    "y_val_predicted_scores_mybag = classifier_mybag.decision_function(X_val_mybag)\n",
    "\n",
    "y_val_predicted_labels_tfidf = classifier_tfidf.predict(X_val_tfidf)\n",
    "y_val_predicted_scores_tfidf = classifier_tfidf.decision_function(X_val_tfidf)"
   ]
  },
  {
   "cell_type": "markdown",
   "metadata": {},
   "source": [
    "Now take a look at how classifier, which uses TF-IDF, works for a few examples:"
   ]
  },
  {
   "cell_type": "code",
   "execution_count": 137,
   "metadata": {
    "ExecuteTime": {
     "end_time": "2018-07-23T01:04:57.104246Z",
     "start_time": "2018-07-23T01:04:56.655421Z"
    }
   },
   "outputs": [
    {
     "name": "stdout",
     "output_type": "stream",
     "text": [
      "Title:\todbc_exec always fail\n",
      "True labels:\tphp,sql\n",
      "Predicted labels:\t\n",
      "\n",
      "\n",
      "Title:\taccess base classes variable within child class\n",
      "True labels:\tjavascript\n",
      "Predicted labels:\t\n",
      "\n",
      "\n",
      "Title:\tcontenttype application json required rails\n",
      "True labels:\truby,ruby-on-rails\n",
      "Predicted labels:\truby-on-rails\n",
      "\n",
      "\n"
     ]
    }
   ],
   "source": [
    "y_val_pred_inversed = mlb.inverse_transform(y_val_predicted_labels_tfidf)\n",
    "y_val_inversed = mlb.inverse_transform(y_val)\n",
    "for i in range(3):\n",
    "    print('Title:\\t{}\\nTrue labels:\\t{}\\nPredicted labels:\\t{}\\n\\n'.format(\n",
    "        X_val[i],\n",
    "        ','.join(y_val_inversed[i]),\n",
    "        ','.join(y_val_pred_inversed[i])\n",
    "    ))"
   ]
  },
  {
   "cell_type": "markdown",
   "metadata": {},
   "source": [
    "Now, we would need to compare the results of different predictions, e.g. to see whether TF-IDF transformation helps or to try different regularization techniques in logistic regression. For all these experiments, we need to setup evaluation procedure. "
   ]
  },
  {
   "cell_type": "markdown",
   "metadata": {},
   "source": [
    "### Evaluation\n",
    "\n",
    "To evaluate the results we will use several classification metrics:\n",
    " - [Accuracy](http://scikit-learn.org/stable/modules/generated/sklearn.metrics.accuracy_score.html)\n",
    " - [F1-score](http://scikit-learn.org/stable/modules/generated/sklearn.metrics.f1_score.html)\n",
    " - [Area under ROC-curve](http://scikit-learn.org/stable/modules/generated/sklearn.metrics.roc_auc_score.html)\n",
    " - [Area under precision-recall curve](http://scikit-learn.org/stable/modules/generated/sklearn.metrics.average_precision_score.html#sklearn.metrics.average_precision_score) \n",
    " \n",
    "Make sure you are familiar with all of them. How would you expect the things work for the multi-label scenario? Read about micro/macro/weighted averaging following the sklearn links provided above."
   ]
  },
  {
   "cell_type": "code",
   "execution_count": 138,
   "metadata": {
    "ExecuteTime": {
     "end_time": "2018-07-23T01:05:16.762685Z",
     "start_time": "2018-07-23T01:05:16.752953Z"
    },
    "collapsed": true
   },
   "outputs": [],
   "source": [
    "from sklearn.metrics import accuracy_score\n",
    "from sklearn.metrics import f1_score\n",
    "from sklearn.metrics import roc_auc_score \n",
    "from sklearn.metrics import average_precision_score\n",
    "from sklearn.metrics import recall_score"
   ]
  },
  {
   "cell_type": "markdown",
   "metadata": {},
   "source": [
    "Implement the function *print_evaluation_scores* which calculates and prints to stdout:\n",
    " - *accuracy*\n",
    " - *F1-score macro/micro/weighted*\n",
    " - *Precision macro/micro/weighted*"
   ]
  },
  {
   "cell_type": "code",
   "execution_count": 159,
   "metadata": {
    "ExecuteTime": {
     "end_time": "2018-07-23T01:15:48.106502Z",
     "start_time": "2018-07-23T01:15:48.078337Z"
    }
   },
   "outputs": [],
   "source": [
    "def print_evaluation_scores(y_val, predicted):\n",
    "    print(accuracy_score(y_val,predicted, normalize=True))\n",
    "    print(roc_auc_score(y_val, predicted))\n",
    "    print(f1_score(y_val, predicted,average='weighted'))\n",
    "    print(average_precision_score(y_val, predicted))\n",
    "    print(recall_score(y_val,predicted,average='weighted'))\n",
    "    ######################################\n",
    "    ######### YOUR CODE HERE #############\n",
    "    ######################################"
   ]
  },
  {
   "cell_type": "code",
   "execution_count": 160,
   "metadata": {
    "ExecuteTime": {
     "end_time": "2018-07-23T01:16:00.731199Z",
     "start_time": "2018-07-23T01:15:48.772825Z"
    }
   },
   "outputs": [
    {
     "name": "stdout",
     "output_type": "stream",
     "text": [
      "Bag-of-words\n",
      "0.361833333333\n",
      "0.706067771755\n",
      "0.651649534124\n",
      "0.348449084552\n",
      "0.554930781063\n",
      "Tfidf\n",
      "0.336733333333\n",
      "0.671266757214\n",
      "0.616470652051\n",
      "0.305003863206\n",
      "0.503606221159\n"
     ]
    }
   ],
   "source": [
    "print('Bag-of-words')\n",
    "print_evaluation_scores(y_val, y_val_predicted_labels_mybag)\n",
    "print('Tfidf')\n",
    "print_evaluation_scores(y_val, y_val_predicted_labels_tfidf)"
   ]
  },
  {
   "cell_type": "markdown",
   "metadata": {},
   "source": [
    "You might also want to plot some generalization of the [ROC curve](http://scikit-learn.org/stable/modules/model_evaluation.html#receiver-operating-characteristic-roc) for the case of multi-label classification. Provided function *roc_auc* can make it for you. The input parameters of this function are:\n",
    " - true labels\n",
    " - decision functions scores\n",
    " - number of classes"
   ]
  },
  {
   "cell_type": "code",
   "execution_count": 142,
   "metadata": {
    "ExecuteTime": {
     "end_time": "2018-07-23T01:06:16.759249Z",
     "start_time": "2018-07-23T01:06:16.279558Z"
    },
    "collapsed": true
   },
   "outputs": [],
   "source": [
    "from metrics import roc_auc\n",
    "%matplotlib inline"
   ]
  },
  {
   "cell_type": "code",
   "execution_count": 143,
   "metadata": {
    "ExecuteTime": {
     "end_time": "2018-07-23T01:06:21.325989Z",
     "start_time": "2018-07-23T01:06:17.834326Z"
    }
   },
   "outputs": [
    {
     "data": {
      "image/png": "[encoded data removed]",
      "text/plain": [
       "<matplotlib.figure.Figure at 0x1a1eb39f98>"
      ]
     },
     "metadata": {},
     "output_type": "display_data"
    }
   ],
   "source": [
    "n_classes = len(tags_counts)\n",
    "roc_auc(y_val, y_val_predicted_scores_mybag, n_classes)"
   ]
  },
  {
   "cell_type": "code",
   "execution_count": 146,
   "metadata": {
    "ExecuteTime": {
     "end_time": "2018-07-23T01:07:18.493939Z",
     "start_time": "2018-07-23T01:07:15.473493Z"
    }
   },
   "outputs": [
    {
     "data": {
      "image/png": "[encoded data removed]",
      "text/plain": [
       "<matplotlib.figure.Figure at 0x1a1dd5cb00>"
      ]
     },
     "metadata": {},
     "output_type": "display_data"
    }
   ],
   "source": [
    "n_classes = len(tags_counts)\n",
    "roc_auc(y_val, y_val_predicted_scores_tfidf, n_classes)"
   ]
  },
  {
   "cell_type": "markdown",
   "metadata": {},
   "source": [
    "**Task 4 (MultilabelClassification).** Once we have the evaluation set up, we suggest that you experiment a bit with training your classifiers. We will use *F1-score weighted* as an evaluation metric. Our recommendation:\n",
    "- compare the quality of the bag-of-words and TF-IDF approaches and chose one of them.\n",
    "- for the chosen one, try *L1* and *L2*-regularization techniques in Logistic Regression with different coefficients (e.g. C equal to 0.1, 1, 10, 100).\n",
    "\n",
    "You also could try other improvements of the preprocessing / model, if you want. "
   ]
  },
  {
   "cell_type": "code",
   "execution_count": null,
   "metadata": {
    "collapsed": true
   },
   "outputs": [],
   "source": [
    "######################################\n",
    "######### YOUR CODE HERE #############\n",
    "######################################"
   ]
  },
  {
   "cell_type": "markdown",
   "metadata": {},
   "source": [
    "When you are happy with the quality, create predictions for *test* set, which you will submit to Coursera."
   ]
  },
  {
   "cell_type": "code",
   "execution_count": 161,
   "metadata": {
    "ExecuteTime": {
     "end_time": "2018-07-23T02:59:11.512064Z",
     "start_time": "2018-07-23T02:59:11.268464Z"
    }
   },
   "outputs": [
    {
     "name": "stdout",
     "output_type": "stream",
     "text": [
      "Current answer for task MultilabelClassification is:\n",
      " 0\tmysql,php\n",
      "1\tjavascript\n",
      "2\t\n",
      "3\tjavascript,jquery\n",
      "4\tandroid,java\n",
      "5\tphp,xml\n",
      "6\tajax,json,web-services\n",
      "7\t...\n"
     ]
    }
   ],
   "source": [
    "# test_predictions = ######### YOUR CODE HERE #############\n",
    "test_predictions = classifier_mybag.predict(X_test_mybag)\n",
    "test_pred_inversed = mlb.inverse_transform(test_predictions)\n",
    "\n",
    "test_predictions_for_submission = '\\n'.join('%i\\t%s' % (i, ','.join(row)) for i, row in enumerate(test_pred_inversed))\n",
    "grader.submit_tag('MultilabelClassification', test_predictions_for_submission)"
   ]
  },
  {
   "cell_type": "markdown",
   "metadata": {},
   "source": [
    "### Analysis of the most important features"
   ]
  },
  {
   "cell_type": "markdown",
   "metadata": {},
   "source": [
    "Finally, it is usually a good idea to look at the features (words or n-grams) that are used with the largest weigths in your logistic regression model."
   ]
  },
  {
   "cell_type": "markdown",
   "metadata": {},
   "source": [
    "Implement the function *print_words_for_tag* to find them. Get back to sklearn documentation on [OneVsRestClassifier](http://scikit-learn.org/stable/modules/generated/sklearn.multiclass.OneVsRestClassifier.html) and [LogisticRegression](http://scikit-learn.org/stable/modules/generated/sklearn.linear_model.LogisticRegression.html) if needed."
   ]
  },
  {
   "cell_type": "code",
   "execution_count": 175,
   "metadata": {
    "ExecuteTime": {
     "end_time": "2018-07-23T03:11:15.193346Z",
     "start_time": "2018-07-23T03:11:15.174380Z"
    }
   },
   "outputs": [
    {
     "name": "stdout",
     "output_type": "stream",
     "text": [
      "['app delegate', 'ampersand', '5 minutes', '19', '#2']\n",
      "['1110', '#pragma', '#1', '0', '10']\n"
     ]
    }
   ],
   "source": [
    "print(top_positive_words)\n",
    "print(top_negative_words)"
   ]
  },
  {
   "cell_type": "code",
   "execution_count": 177,
   "metadata": {
    "ExecuteTime": {
     "end_time": "2018-07-23T03:14:26.854131Z",
     "start_time": "2018-07-23T03:14:26.824447Z"
    }
   },
   "outputs": [],
   "source": [
    "def print_words_for_tag(classifier, tag, tags_classes, index_to_words, all_words):\n",
    "    \"\"\"\n",
    "        classifier: trained classifier\n",
    "        tag: particular tag\n",
    "        tags_classes: a list of classes names from MultiLabelBinarizer\n",
    "        index_to_words: index_to_words transformation\n",
    "        all_words: all words in the dictionary\n",
    "        \n",
    "        return nothing, just print top 5 positive and top 5 negative words for current tag\n",
    "    \"\"\"\n",
    "    print('Tag:\\t{}'.format(tag))\n",
    "    \n",
    "    # Extract an estimator from the classifier for the given tag.\n",
    "    used_cls= classifier_mybag.estimators_[mlb.classes.index('java')]\n",
    "    # Extract feature coefficients from the estimator. \n",
    "    coeff = np.squeeze(used_cls.coef_)\n",
    "    sorted_ind = sorted(range(len(coeff)), key = lambda x: coeff[x])\n",
    "    top_positive_words = [index_to_words[ind] for ind in sorted_ind[-5:]] # top-5 words sorted by the coefficiens.\n",
    "    top_negative_words = [index_to_words[ind] for ind in sorted_ind[:5]]  # bottom-5 words  sorted by the coefficients.\n",
    "    \n",
    "    print('Top positive words:\\t{}'.format(', '.join(top_positive_words)))\n",
    "    print('Top negative words:\\t{}\\n'.format(', '.join(top_negative_words)))"
   ]
  },
  {
   "cell_type": "code",
   "execution_count": 178,
   "metadata": {
    "ExecuteTime": {
     "end_time": "2018-07-23T03:14:27.763463Z",
     "start_time": "2018-07-23T03:14:27.737947Z"
    }
   },
   "outputs": [
    {
     "name": "stdout",
     "output_type": "stream",
     "text": [
      "Tag:\tc\n",
      "Top positive words:\tapp delegate, ampersand, 5 minutes, 19, #2\n",
      "Top negative words:\t1110, #pragma, #1, 0, 10\n",
      "\n",
      "Tag:\tc++\n",
      "Top positive words:\tapp delegate, ampersand, 5 minutes, 19, #2\n",
      "Top negative words:\t1110, #pragma, #1, 0, 10\n",
      "\n",
      "Tag:\tlinux\n",
      "Top positive words:\tapp delegate, ampersand, 5 minutes, 19, #2\n",
      "Top negative words:\t1110, #pragma, #1, 0, 10\n",
      "\n"
     ]
    }
   ],
   "source": [
    "print_words_for_tag(classifier_tfidf, 'c', mlb.classes, tfidf_reversed_vocab, ALL_WORDS)\n",
    "print_words_for_tag(classifier_tfidf, 'c++', mlb.classes, tfidf_reversed_vocab, ALL_WORDS)\n",
    "print_words_for_tag(classifier_tfidf, 'linux', mlb.classes, tfidf_reversed_vocab, ALL_WORDS)"
   ]
  },
  {
   "cell_type": "markdown",
   "metadata": {},
   "source": [
    "### Authorization & Submission\n",
    "To submit assignment parts to Cousera platform, please, enter your e-mail and token into variables below. You can generate token on this programming assignment page. <b>Note:</b> Token expires 30 minutes after generation."
   ]
  },
  {
   "cell_type": "code",
   "execution_count": null,
   "metadata": {
    "collapsed": true
   },
   "outputs": [],
   "source": [
    "grader.status()"
   ]
  },
  {
   "cell_type": "code",
   "execution_count": null,
   "metadata": {
    "collapsed": true
   },
   "outputs": [],
   "source": [
    "STUDENT_EMAIL = # EMAIL \n",
    "STUDENT_TOKEN = # TOKEN \n",
    "grader.status()"
   ]
  },
  {
   "cell_type": "markdown",
   "metadata": {},
   "source": [
    "If you want to submit these answers, run cell below"
   ]
  },
  {
   "cell_type": "code",
   "execution_count": null,
   "metadata": {
    "collapsed": true
   },
   "outputs": [],
   "source": [
    "grader.submit(STUDENT_EMAIL, STUDENT_TOKEN)"
   ]
  }
 ],
 "metadata": {
  "kernelspec": {
   "display_name": "Python 3",
   "language": "python",
   "name": "python3"
  },
  "language_info": {
   "codemirror_mode": {
    "name": "ipython",
    "version": 3
   },
   "file_extension": ".py",
   "mimetype": "text/x-python",
   "name": "python",
   "nbconvert_exporter": "python",
   "pygments_lexer": "ipython3",
   "version": "3.5.4"
  }
 },
 "nbformat": 4,
 "nbformat_minor": 2
}
